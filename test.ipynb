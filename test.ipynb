{ "cells": [
  {
   "cell_type": "markdown",
   "metadata": {
    "slideshow": {
     "slide_type": "slide"
    }
   },
   "source": [
    "# testing\n",
   ]
  },
  {
   "cell_type": "code",
   "metadata": {
    "slideshow": {
     "slide_type": "slide"
    }
   },
   "source": [
    "from matplotlib import pyplot as plt  # \"import as\" pozwala odwoływać się do zaimportowanej biblioteki przez inną nazwę\n",
    "\n",
    "plt.rcdefaults()\n",
    "plt.clf()\n",
    "\n",
    "data = [2, 1, 1, 1, 207, 1, 59, 16, 3, 6]\n",
    "names = ['Bolesław', 'Prus', 'Lalka', 'Tom', 'I', 'I.', 'Jak', 'wygląda', 'firma', 'J.']\n",
    "\n",
    "plt.title(\"Liczba wystąpień słów\")\n",
    "plt.plot(data, linewidth=2)\n",
    "\n",
    "plt.xticks(range(len(names)), names, rotation=90)\n",
    "plt.xlabel(\"Próbki\")\n",
    "plt.ylabel(\"Liczba wystąpień\")"
   ]
  }
 ]
 }
